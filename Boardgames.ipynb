{
 "cells": [
  {
   "cell_type": "code",
   "execution_count": 102,
   "metadata": {},
   "outputs": [],
   "source": [
    "#library to use dataframes\n",
    "import pandas as pd\n",
    "# library to connect & interact with databases\n",
    "# SQLAlchemy   to access SQLite3 database system.\n",
    "# SQLAlchemy supports all popular database \n",
    "# systems including SQLite3, MySQL, PostgreSQL, Oracle, Microsoft SQL Server etc\n",
    "\n",
    "from sqlalchemy import create_engine, inspect"
   ]
  },
  {
   "cell_type": "code",
   "execution_count": 103,
   "metadata": {},
   "outputs": [],
   "source": [
    "#set the database file location to a variable\n",
    "#r indicates read file as is, i.e as plain characters\n",
    "sqlite_file = r'boardgames.sqlite'\n",
    "\n",
    "# set the connection to SQLite database in a variable\n",
    "# argument is usually a string that indicates database dialect\n",
    "# where dialect is a database name such as mysql, oracle, postgresql, etc.\n",
    "# To start workin with SQLAlchemy, the first thing  is \n",
    "# create an Engine. The Engine is how SQLAlchemy communicates with your database, \n",
    "# so, when creating the Engine you should add your database (db) URL and that’s basically it.\n",
    "engine = create_engine(f\"sqlite:///{sqlite_file}\")"
   ]
  },
  {
   "cell_type": "code",
   "execution_count": 104,
   "metadata": {},
   "outputs": [
    {
     "data": {
      "text/plain": [
       "['BoardGames',\n",
       " 'bgg.ldaOut.top.documents',\n",
       " 'bgg.ldaOut.top.terms',\n",
       " 'bgg.ldaOut.topics',\n",
       " 'bgg.topics']"
      ]
     },
     "execution_count": 104,
     "metadata": {},
     "output_type": "execute_result"
    }
   ],
   "source": [
    "#get a list of all the tables in the database\n",
    "engine.table_names()"
   ]
  },
  {
   "cell_type": "markdown",
   "metadata": {},
   "source": [
    "### To find the size of the table we use df.shape and extract the number of rows and columns in the table"
   ]
  },
  {
   "cell_type": "code",
   "execution_count": 105,
   "metadata": {},
   "outputs": [
    {
     "data": {
      "text/plain": [
       "(90400, 81)"
      ]
     },
     "execution_count": 105,
     "metadata": {},
     "output_type": "execute_result"
    }
   ],
   "source": [
    "sql_1 = \"SELECT * FROM BoardGames;\"\n",
    "BoardGames_df = pd.read_sql(sql_1, engine)\n",
    "BoardGames_df.shape"
   ]
  },
  {
   "cell_type": "code",
   "execution_count": 106,
   "metadata": {},
   "outputs": [
    {
     "data": {
      "text/plain": [
       "(288, 4)"
      ]
     },
     "execution_count": 106,
     "metadata": {},
     "output_type": "execute_result"
    }
   ],
   "source": [
    "#because of the dot in the table name we have to pass the name in a []\n",
    "sql_2 = \"SELECT * FROM [bgg.ldaOut.top.documents];\"\n",
    "bgg_documents_df = pd.read_sql(sql_2, engine)\n",
    "bgg_documents_df.shape"
   ]
  },
  {
   "cell_type": "code",
   "execution_count": 107,
   "metadata": {},
   "outputs": [
    {
     "data": {
      "text/plain": [
       "(250, 4)"
      ]
     },
     "execution_count": 107,
     "metadata": {},
     "output_type": "execute_result"
    }
   ],
   "source": [
    "#because of the dot in the table name we have to pass the name in a []\n",
    "sql_3 = \"SELECT * FROM [bgg.ldaOut.top.terms];\"\n",
    "bgg_terms_df = pd.read_sql(sql_3, engine)\n",
    "bgg_terms_df.shape"
   ]
  },
  {
   "cell_type": "code",
   "execution_count": 108,
   "metadata": {},
   "outputs": [
    {
     "data": {
      "text/plain": [
       "(29229, 2)"
      ]
     },
     "execution_count": 108,
     "metadata": {},
     "output_type": "execute_result"
    }
   ],
   "source": [
    "#because of the dot in the table name we have to pass the name in a []\n",
    "sql_4 = \"SELECT * FROM [bgg.ldaOut.topics];\"\n",
    "bgg_otopics_df = pd.read_sql(sql_4, engine)\n",
    "bgg_otopics_df.shape"
   ]
  },
  {
   "cell_type": "code",
   "execution_count": 109,
   "metadata": {},
   "outputs": [
    {
     "data": {
      "text/plain": [
       "(29313, 74)"
      ]
     },
     "execution_count": 109,
     "metadata": {},
     "output_type": "execute_result"
    }
   ],
   "source": [
    "#because of the dot in the table name we have to pass the name in a []\n",
    "sql_5 = \"SELECT * FROM [bgg.topics];\"\n",
    "bgg_topics_df = pd.read_sql(sql_5, engine)\n",
    "bgg_topics_df.shape"
   ]
  },
  {
   "cell_type": "code",
   "execution_count": null,
   "metadata": {},
   "outputs": [],
   "source": []
  }
 ],
 "metadata": {
  "kernelspec": {
   "display_name": "Python 3",
   "language": "python",
   "name": "python3"
  },
  "language_info": {
   "codemirror_mode": {
    "name": "ipython",
    "version": 3
   },
   "file_extension": ".py",
   "mimetype": "text/x-python",
   "name": "python",
   "nbconvert_exporter": "python",
   "pygments_lexer": "ipython3",
   "version": "3.7.6"
  }
 },
 "nbformat": 4,
 "nbformat_minor": 4
}
