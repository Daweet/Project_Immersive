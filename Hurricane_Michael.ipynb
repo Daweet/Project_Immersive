{
 "cells": [
  {
   "cell_type": "markdown",
   "metadata": {},
   "source": [
    "# Hurricane Michael\n",
    "\n",
    "Download the hurricaneMichael.csv and US_states(5m).json files.\n",
    "\n",
    "Using the geopandas library, turn the latitude and longitude columns into a geographical Point data type then make a geodataframe. Plot the path of Hurricane Michael onto the US map in the GeoJSON file.\n",
    "\n",
    "Tips\n",
    "\n",
    "*    After loading the US_states(5m).json file as a geodataframe, use the following code to create a geodataframe that only contains the contiguous United States (48 states):\n"
   ]
  },
  {
   "cell_type": "raw",
   "metadata": {},
   "source": [
    " map48 = map_df.loc[map_df['NAME'].isin(['Alaska', 'Hawaii', 'Puerto Rico']) == False]\n",
    "    "
   ]
  },
  {
   "cell_type": "markdown",
   "metadata": {},
   "source": [
    "*    The longitude column data should be turned into negative values(data source listed longitude direction instead of positive/negative). Use the following code to make the data correct:\n",
    "\n",
    "Feel free to add any additional features to your plot (marker shape, marker color, etc.)."
   ]
  },
  {
   "cell_type": "raw",
   "metadata": {},
   "source": [
    "michaeldf['Long'] = 0 - michaeldf['Long']"
   ]
  },
  {
   "cell_type": "code",
   "execution_count": 1,
   "metadata": {},
   "outputs": [],
   "source": [
    "import pandas as pd\n",
    "import geopandas as gpd #used for transforming geolocation data\n",
    "import matplotlib.pyplot as plt\n",
    "\n",
    "from datetime import datetime  #to convert data to datetime that does not fall within the pandas.to_datetime function timeframe\n",
    "from shapely.geometry import Point  #transform latitude/longitude to geo-coordinate data\n",
    "from geopandas.tools import geocode #get the latitude/longitude for a given address\n",
    "from geopandas.tools import reverse_geocode  #get the address for a location using latitude/longitude\n",
    "\n",
    "%matplotlib inline"
   ]
  },
  {
   "cell_type": "markdown",
   "metadata": {},
   "source": [
    "### Geocoding and Reverse Geocoding\n",
    "\n",
    "Geocoding is taking an address for a location and returning its latitudinal and longitudinal coordinates. Reverse geocoding would then be the opposite - taking the latitudinal and longitudinal coordinates for a location and returning the physical address."
   ]
  },
  {
   "cell_type": "code",
   "execution_count": 2,
   "metadata": {
    "scrolled": true
   },
   "outputs": [
    {
     "data": {
      "text/html": [
       "<div>\n",
       "<style scoped>\n",
       "    .dataframe tbody tr th:only-of-type {\n",
       "        vertical-align: middle;\n",
       "    }\n",
       "\n",
       "    .dataframe tbody tr th {\n",
       "        vertical-align: top;\n",
       "    }\n",
       "\n",
       "    .dataframe thead th {\n",
       "        text-align: right;\n",
       "    }\n",
       "</style>\n",
       "<table border=\"1\" class=\"dataframe\">\n",
       "  <thead>\n",
       "    <tr style=\"text-align: right;\">\n",
       "      <th></th>\n",
       "      <th>AdvisoryNumber</th>\n",
       "      <th>Date</th>\n",
       "      <th>Lat</th>\n",
       "      <th>Long</th>\n",
       "      <th>Wind</th>\n",
       "      <th>Pres</th>\n",
       "      <th>Movement</th>\n",
       "      <th>Type</th>\n",
       "      <th>Name</th>\n",
       "      <th>Received</th>\n",
       "      <th>Forecaster</th>\n",
       "    </tr>\n",
       "  </thead>\n",
       "  <tbody>\n",
       "    <tr>\n",
       "      <th>0</th>\n",
       "      <td>1</td>\n",
       "      <td>10/06/2018 17:00</td>\n",
       "      <td>18.0</td>\n",
       "      <td>86.6</td>\n",
       "      <td>30</td>\n",
       "      <td>1006</td>\n",
       "      <td>NW at 6 MPH (325 deg)</td>\n",
       "      <td>Potential Tropical Cyclone</td>\n",
       "      <td>Fourteen</td>\n",
       "      <td>10/06/2018 16:50</td>\n",
       "      <td>Beven</td>\n",
       "    </tr>\n",
       "    <tr>\n",
       "      <th>1</th>\n",
       "      <td>1A</td>\n",
       "      <td>10/06/2018 20:00</td>\n",
       "      <td>18.3</td>\n",
       "      <td>86.6</td>\n",
       "      <td>30</td>\n",
       "      <td>1004</td>\n",
       "      <td>N at 6 MPH (360 deg)</td>\n",
       "      <td>Potential Tropical Cyclone</td>\n",
       "      <td>Fourteen</td>\n",
       "      <td>10/06/2018 19:32</td>\n",
       "      <td>Avila</td>\n",
       "    </tr>\n",
       "    <tr>\n",
       "      <th>2</th>\n",
       "      <td>2</td>\n",
       "      <td>10/06/2018 23:00</td>\n",
       "      <td>18.8</td>\n",
       "      <td>86.6</td>\n",
       "      <td>30</td>\n",
       "      <td>1004</td>\n",
       "      <td>N at 7 MPH (360 deg)</td>\n",
       "      <td>Potential Tropical Cyclone</td>\n",
       "      <td>Fourteen</td>\n",
       "      <td>10/06/2018 22:38</td>\n",
       "      <td>Avila</td>\n",
       "    </tr>\n",
       "    <tr>\n",
       "      <th>3</th>\n",
       "      <td>2A</td>\n",
       "      <td>10/07/2018 02:00</td>\n",
       "      <td>18.4</td>\n",
       "      <td>87.1</td>\n",
       "      <td>35</td>\n",
       "      <td>1004</td>\n",
       "      <td>NW at 5 MPH (320 deg)</td>\n",
       "      <td>Potential Tropical Cyclone</td>\n",
       "      <td>Fourteen</td>\n",
       "      <td>10/07/2018 01:38</td>\n",
       "      <td>Berg</td>\n",
       "    </tr>\n",
       "    <tr>\n",
       "      <th>4</th>\n",
       "      <td>3</td>\n",
       "      <td>10/07/2018 05:00</td>\n",
       "      <td>18.6</td>\n",
       "      <td>86.9</td>\n",
       "      <td>35</td>\n",
       "      <td>1004</td>\n",
       "      <td>NNW at 3 MPH (340 deg)</td>\n",
       "      <td>Tropical Depression</td>\n",
       "      <td>FOURTEEN</td>\n",
       "      <td>10/07/2018 04:53</td>\n",
       "      <td>Berg</td>\n",
       "    </tr>\n",
       "  </tbody>\n",
       "</table>\n",
       "</div>"
      ],
      "text/plain": [
       "  AdvisoryNumber              Date   Lat  Long  Wind  Pres  \\\n",
       "0              1  10/06/2018 17:00  18.0  86.6    30  1006   \n",
       "1             1A  10/06/2018 20:00  18.3  86.6    30  1004   \n",
       "2              2  10/06/2018 23:00  18.8  86.6    30  1004   \n",
       "3             2A  10/07/2018 02:00  18.4  87.1    35  1004   \n",
       "4              3  10/07/2018 05:00  18.6  86.9    35  1004   \n",
       "\n",
       "                 Movement                        Type      Name  \\\n",
       "0   NW at 6 MPH (325 deg)  Potential Tropical Cyclone  Fourteen   \n",
       "1    N at 6 MPH (360 deg)  Potential Tropical Cyclone  Fourteen   \n",
       "2    N at 7 MPH (360 deg)  Potential Tropical Cyclone  Fourteen   \n",
       "3   NW at 5 MPH (320 deg)  Potential Tropical Cyclone  Fourteen   \n",
       "4  NNW at 3 MPH (340 deg)         Tropical Depression  FOURTEEN   \n",
       "\n",
       "           Received Forecaster  \n",
       "0  10/06/2018 16:50      Beven  \n",
       "1  10/06/2018 19:32      Avila  \n",
       "2  10/06/2018 22:38      Avila  \n",
       "3  10/07/2018 01:38       Berg  \n",
       "4  10/07/2018 04:53       Berg  "
      ]
     },
     "execution_count": 2,
     "metadata": {},
     "output_type": "execute_result"
    }
   ],
   "source": [
    "#load hurricane data collected \n",
    "hurricane_df = pd.read_csv(\"hurricaneMichael.csv\")\n",
    "hurricane_df.head()"
   ]
  },
  {
   "cell_type": "code",
   "execution_count": 3,
   "metadata": {},
   "outputs": [],
   "source": [
    "hurricane_df['Long'] = 0 - hurricane_df['Long']"
   ]
  },
  {
   "cell_type": "code",
   "execution_count": 4,
   "metadata": {},
   "outputs": [
    {
     "data": {
      "text/plain": [
       "AdvisoryNumber     object\n",
       "Date               object\n",
       "Lat               float64\n",
       "Long              float64\n",
       "Wind                int64\n",
       "Pres                int64\n",
       "Movement           object\n",
       "Type               object\n",
       "Name               object\n",
       "Received           object\n",
       "Forecaster         object\n",
       "dtype: object"
      ]
     },
     "execution_count": 4,
     "metadata": {},
     "output_type": "execute_result"
    }
   ],
   "source": [
    "#data type of each column\n",
    "hurricane_df.dtypes"
   ]
  },
  {
   "cell_type": "code",
   "execution_count": 53,
   "metadata": {},
   "outputs": [
    {
     "data": {
      "text/plain": [
       "45"
      ]
     },
     "execution_count": 53,
     "metadata": {},
     "output_type": "execute_result"
    }
   ],
   "source": [
    "len(hurricane_df)"
   ]
  },
  {
   "cell_type": "code",
   "execution_count": 54,
   "metadata": {},
   "outputs": [
    {
     "data": {
      "text/plain": [
       "AdvisoryNumber    45\n",
       "Date              45\n",
       "Lat               45\n",
       "Long              45\n",
       "Wind              45\n",
       "Pres              45\n",
       "Movement          45\n",
       "Type              45\n",
       "Name              45\n",
       "Received          45\n",
       "Forecaster        45\n",
       "coordinates       45\n",
       "dtype: int64"
      ]
     },
     "execution_count": 54,
     "metadata": {},
     "output_type": "execute_result"
    }
   ],
   "source": [
    "#see columns with null values\n",
    "hurricane_df.count()"
   ]
  },
  {
   "cell_type": "code",
   "execution_count": 55,
   "metadata": {},
   "outputs": [],
   "source": [
    "#make a new column to hold the longitude & latitude as a list\n",
    "hurricane_df['coordinates'] = list(hurricane_df[['Long', 'Lat']].values)"
   ]
  },
  {
   "cell_type": "code",
   "execution_count": 56,
   "metadata": {
    "scrolled": true
   },
   "outputs": [
    {
     "data": {
      "text/html": [
       "<div>\n",
       "<style scoped>\n",
       "    .dataframe tbody tr th:only-of-type {\n",
       "        vertical-align: middle;\n",
       "    }\n",
       "\n",
       "    .dataframe tbody tr th {\n",
       "        vertical-align: top;\n",
       "    }\n",
       "\n",
       "    .dataframe thead th {\n",
       "        text-align: right;\n",
       "    }\n",
       "</style>\n",
       "<table border=\"1\" class=\"dataframe\">\n",
       "  <thead>\n",
       "    <tr style=\"text-align: right;\">\n",
       "      <th></th>\n",
       "      <th>AdvisoryNumber</th>\n",
       "      <th>Date</th>\n",
       "      <th>Lat</th>\n",
       "      <th>Long</th>\n",
       "      <th>Wind</th>\n",
       "      <th>Pres</th>\n",
       "      <th>Movement</th>\n",
       "      <th>Type</th>\n",
       "      <th>Name</th>\n",
       "      <th>Received</th>\n",
       "      <th>Forecaster</th>\n",
       "      <th>coordinates</th>\n",
       "    </tr>\n",
       "  </thead>\n",
       "  <tbody>\n",
       "    <tr>\n",
       "      <th>0</th>\n",
       "      <td>1</td>\n",
       "      <td>10/06/2018 17:00</td>\n",
       "      <td>18.0</td>\n",
       "      <td>-86.6</td>\n",
       "      <td>30</td>\n",
       "      <td>1006</td>\n",
       "      <td>NW at 6 MPH (325 deg)</td>\n",
       "      <td>Potential Tropical Cyclone</td>\n",
       "      <td>Fourteen</td>\n",
       "      <td>10/06/2018 16:50</td>\n",
       "      <td>Beven</td>\n",
       "      <td>[-86.6, 18.0]</td>\n",
       "    </tr>\n",
       "    <tr>\n",
       "      <th>1</th>\n",
       "      <td>1A</td>\n",
       "      <td>10/06/2018 20:00</td>\n",
       "      <td>18.3</td>\n",
       "      <td>-86.6</td>\n",
       "      <td>30</td>\n",
       "      <td>1004</td>\n",
       "      <td>N at 6 MPH (360 deg)</td>\n",
       "      <td>Potential Tropical Cyclone</td>\n",
       "      <td>Fourteen</td>\n",
       "      <td>10/06/2018 19:32</td>\n",
       "      <td>Avila</td>\n",
       "      <td>[-86.6, 18.3]</td>\n",
       "    </tr>\n",
       "    <tr>\n",
       "      <th>2</th>\n",
       "      <td>2</td>\n",
       "      <td>10/06/2018 23:00</td>\n",
       "      <td>18.8</td>\n",
       "      <td>-86.6</td>\n",
       "      <td>30</td>\n",
       "      <td>1004</td>\n",
       "      <td>N at 7 MPH (360 deg)</td>\n",
       "      <td>Potential Tropical Cyclone</td>\n",
       "      <td>Fourteen</td>\n",
       "      <td>10/06/2018 22:38</td>\n",
       "      <td>Avila</td>\n",
       "      <td>[-86.6, 18.8]</td>\n",
       "    </tr>\n",
       "    <tr>\n",
       "      <th>3</th>\n",
       "      <td>2A</td>\n",
       "      <td>10/07/2018 02:00</td>\n",
       "      <td>18.4</td>\n",
       "      <td>-87.1</td>\n",
       "      <td>35</td>\n",
       "      <td>1004</td>\n",
       "      <td>NW at 5 MPH (320 deg)</td>\n",
       "      <td>Potential Tropical Cyclone</td>\n",
       "      <td>Fourteen</td>\n",
       "      <td>10/07/2018 01:38</td>\n",
       "      <td>Berg</td>\n",
       "      <td>[-87.1, 18.4]</td>\n",
       "    </tr>\n",
       "    <tr>\n",
       "      <th>4</th>\n",
       "      <td>3</td>\n",
       "      <td>10/07/2018 05:00</td>\n",
       "      <td>18.6</td>\n",
       "      <td>-86.9</td>\n",
       "      <td>35</td>\n",
       "      <td>1004</td>\n",
       "      <td>NNW at 3 MPH (340 deg)</td>\n",
       "      <td>Tropical Depression</td>\n",
       "      <td>FOURTEEN</td>\n",
       "      <td>10/07/2018 04:53</td>\n",
       "      <td>Berg</td>\n",
       "      <td>[-86.9, 18.6]</td>\n",
       "    </tr>\n",
       "  </tbody>\n",
       "</table>\n",
       "</div>"
      ],
      "text/plain": [
       "  AdvisoryNumber              Date   Lat  Long  Wind  Pres  \\\n",
       "0              1  10/06/2018 17:00  18.0 -86.6    30  1006   \n",
       "1             1A  10/06/2018 20:00  18.3 -86.6    30  1004   \n",
       "2              2  10/06/2018 23:00  18.8 -86.6    30  1004   \n",
       "3             2A  10/07/2018 02:00  18.4 -87.1    35  1004   \n",
       "4              3  10/07/2018 05:00  18.6 -86.9    35  1004   \n",
       "\n",
       "                 Movement                        Type      Name  \\\n",
       "0   NW at 6 MPH (325 deg)  Potential Tropical Cyclone  Fourteen   \n",
       "1    N at 6 MPH (360 deg)  Potential Tropical Cyclone  Fourteen   \n",
       "2    N at 7 MPH (360 deg)  Potential Tropical Cyclone  Fourteen   \n",
       "3   NW at 5 MPH (320 deg)  Potential Tropical Cyclone  Fourteen   \n",
       "4  NNW at 3 MPH (340 deg)         Tropical Depression  FOURTEEN   \n",
       "\n",
       "           Received Forecaster    coordinates  \n",
       "0  10/06/2018 16:50      Beven  [-86.6, 18.0]  \n",
       "1  10/06/2018 19:32      Avila  [-86.6, 18.3]  \n",
       "2  10/06/2018 22:38      Avila  [-86.6, 18.8]  \n",
       "3  10/07/2018 01:38       Berg  [-87.1, 18.4]  \n",
       "4  10/07/2018 04:53       Berg  [-86.9, 18.6]  "
      ]
     },
     "execution_count": 56,
     "metadata": {},
     "output_type": "execute_result"
    }
   ],
   "source": [
    "#see new coordinates column\n",
    "hurricane_df.head()"
   ]
  },
  {
   "cell_type": "code",
   "execution_count": 57,
   "metadata": {},
   "outputs": [
    {
     "data": {
      "text/plain": [
       "dtype('O')"
      ]
     },
     "execution_count": 57,
     "metadata": {},
     "output_type": "execute_result"
    }
   ],
   "source": [
    "#list values in coordinates column is classified as object type\n",
    "hurricane_df['coordinates'].dtypes"
   ]
  },
  {
   "cell_type": "code",
   "execution_count": 58,
   "metadata": {},
   "outputs": [],
   "source": [
    "#convert the coordinates to a geolocation type\n",
    "hurricane_df['coordinates'] = hurricane_df['coordinates'].apply(Point)"
   ]
  },
  {
   "cell_type": "code",
   "execution_count": 59,
   "metadata": {
    "scrolled": true
   },
   "outputs": [
    {
     "data": {
      "text/html": [
       "<div>\n",
       "<style scoped>\n",
       "    .dataframe tbody tr th:only-of-type {\n",
       "        vertical-align: middle;\n",
       "    }\n",
       "\n",
       "    .dataframe tbody tr th {\n",
       "        vertical-align: top;\n",
       "    }\n",
       "\n",
       "    .dataframe thead th {\n",
       "        text-align: right;\n",
       "    }\n",
       "</style>\n",
       "<table border=\"1\" class=\"dataframe\">\n",
       "  <thead>\n",
       "    <tr style=\"text-align: right;\">\n",
       "      <th></th>\n",
       "      <th>AdvisoryNumber</th>\n",
       "      <th>Date</th>\n",
       "      <th>Lat</th>\n",
       "      <th>Long</th>\n",
       "      <th>Wind</th>\n",
       "      <th>Pres</th>\n",
       "      <th>Movement</th>\n",
       "      <th>Type</th>\n",
       "      <th>Name</th>\n",
       "      <th>Received</th>\n",
       "      <th>Forecaster</th>\n",
       "      <th>coordinates</th>\n",
       "    </tr>\n",
       "  </thead>\n",
       "  <tbody>\n",
       "    <tr>\n",
       "      <th>0</th>\n",
       "      <td>1</td>\n",
       "      <td>10/06/2018 17:00</td>\n",
       "      <td>18.0</td>\n",
       "      <td>-86.6</td>\n",
       "      <td>30</td>\n",
       "      <td>1006</td>\n",
       "      <td>NW at 6 MPH (325 deg)</td>\n",
       "      <td>Potential Tropical Cyclone</td>\n",
       "      <td>Fourteen</td>\n",
       "      <td>10/06/2018 16:50</td>\n",
       "      <td>Beven</td>\n",
       "      <td>POINT (-86.59999999999999 18)</td>\n",
       "    </tr>\n",
       "    <tr>\n",
       "      <th>1</th>\n",
       "      <td>1A</td>\n",
       "      <td>10/06/2018 20:00</td>\n",
       "      <td>18.3</td>\n",
       "      <td>-86.6</td>\n",
       "      <td>30</td>\n",
       "      <td>1004</td>\n",
       "      <td>N at 6 MPH (360 deg)</td>\n",
       "      <td>Potential Tropical Cyclone</td>\n",
       "      <td>Fourteen</td>\n",
       "      <td>10/06/2018 19:32</td>\n",
       "      <td>Avila</td>\n",
       "      <td>POINT (-86.59999999999999 18.3)</td>\n",
       "    </tr>\n",
       "    <tr>\n",
       "      <th>2</th>\n",
       "      <td>2</td>\n",
       "      <td>10/06/2018 23:00</td>\n",
       "      <td>18.8</td>\n",
       "      <td>-86.6</td>\n",
       "      <td>30</td>\n",
       "      <td>1004</td>\n",
       "      <td>N at 7 MPH (360 deg)</td>\n",
       "      <td>Potential Tropical Cyclone</td>\n",
       "      <td>Fourteen</td>\n",
       "      <td>10/06/2018 22:38</td>\n",
       "      <td>Avila</td>\n",
       "      <td>POINT (-86.59999999999999 18.8)</td>\n",
       "    </tr>\n",
       "    <tr>\n",
       "      <th>3</th>\n",
       "      <td>2A</td>\n",
       "      <td>10/07/2018 02:00</td>\n",
       "      <td>18.4</td>\n",
       "      <td>-87.1</td>\n",
       "      <td>35</td>\n",
       "      <td>1004</td>\n",
       "      <td>NW at 5 MPH (320 deg)</td>\n",
       "      <td>Potential Tropical Cyclone</td>\n",
       "      <td>Fourteen</td>\n",
       "      <td>10/07/2018 01:38</td>\n",
       "      <td>Berg</td>\n",
       "      <td>POINT (-87.09999999999999 18.4)</td>\n",
       "    </tr>\n",
       "    <tr>\n",
       "      <th>4</th>\n",
       "      <td>3</td>\n",
       "      <td>10/07/2018 05:00</td>\n",
       "      <td>18.6</td>\n",
       "      <td>-86.9</td>\n",
       "      <td>35</td>\n",
       "      <td>1004</td>\n",
       "      <td>NNW at 3 MPH (340 deg)</td>\n",
       "      <td>Tropical Depression</td>\n",
       "      <td>FOURTEEN</td>\n",
       "      <td>10/07/2018 04:53</td>\n",
       "      <td>Berg</td>\n",
       "      <td>POINT (-86.90000000000001 18.6)</td>\n",
       "    </tr>\n",
       "  </tbody>\n",
       "</table>\n",
       "</div>"
      ],
      "text/plain": [
       "  AdvisoryNumber              Date   Lat  Long  Wind  Pres  \\\n",
       "0              1  10/06/2018 17:00  18.0 -86.6    30  1006   \n",
       "1             1A  10/06/2018 20:00  18.3 -86.6    30  1004   \n",
       "2              2  10/06/2018 23:00  18.8 -86.6    30  1004   \n",
       "3             2A  10/07/2018 02:00  18.4 -87.1    35  1004   \n",
       "4              3  10/07/2018 05:00  18.6 -86.9    35  1004   \n",
       "\n",
       "                 Movement                        Type      Name  \\\n",
       "0   NW at 6 MPH (325 deg)  Potential Tropical Cyclone  Fourteen   \n",
       "1    N at 6 MPH (360 deg)  Potential Tropical Cyclone  Fourteen   \n",
       "2    N at 7 MPH (360 deg)  Potential Tropical Cyclone  Fourteen   \n",
       "3   NW at 5 MPH (320 deg)  Potential Tropical Cyclone  Fourteen   \n",
       "4  NNW at 3 MPH (340 deg)         Tropical Depression  FOURTEEN   \n",
       "\n",
       "           Received Forecaster                      coordinates  \n",
       "0  10/06/2018 16:50      Beven    POINT (-86.59999999999999 18)  \n",
       "1  10/06/2018 19:32      Avila  POINT (-86.59999999999999 18.3)  \n",
       "2  10/06/2018 22:38      Avila  POINT (-86.59999999999999 18.8)  \n",
       "3  10/07/2018 01:38       Berg  POINT (-87.09999999999999 18.4)  \n",
       "4  10/07/2018 04:53       Berg  POINT (-86.90000000000001 18.6)  "
      ]
     },
     "execution_count": 59,
     "metadata": {},
     "output_type": "execute_result"
    }
   ],
   "source": [
    "#coordinates column now has POINT next to each coordinate pair value\n",
    "hurricane_df.head()"
   ]
  },
  {
   "cell_type": "code",
   "execution_count": 60,
   "metadata": {},
   "outputs": [
    {
     "data": {
      "text/plain": [
       "pandas.core.series.Series"
      ]
     },
     "execution_count": 60,
     "metadata": {},
     "output_type": "execute_result"
    }
   ],
   "source": [
    "#coordinates column with geolocation data is just a regular pandas Series type\n",
    "type(hurricane_df['coordinates'])"
   ]
  },
  {
   "cell_type": "code",
   "execution_count": 61,
   "metadata": {},
   "outputs": [],
   "source": [
    "#create a geolocation dataframe type using the coordinates column as the geolocation data\n",
    "geo_hurricane = gpd.GeoDataFrame(hurricane_df, geometry='coordinates')"
   ]
  },
  {
   "cell_type": "code",
   "execution_count": 62,
   "metadata": {},
   "outputs": [
    {
     "data": {
      "text/html": [
       "<div>\n",
       "<style scoped>\n",
       "    .dataframe tbody tr th:only-of-type {\n",
       "        vertical-align: middle;\n",
       "    }\n",
       "\n",
       "    .dataframe tbody tr th {\n",
       "        vertical-align: top;\n",
       "    }\n",
       "\n",
       "    .dataframe thead th {\n",
       "        text-align: right;\n",
       "    }\n",
       "</style>\n",
       "<table border=\"1\" class=\"dataframe\">\n",
       "  <thead>\n",
       "    <tr style=\"text-align: right;\">\n",
       "      <th></th>\n",
       "      <th>AdvisoryNumber</th>\n",
       "      <th>Date</th>\n",
       "      <th>Lat</th>\n",
       "      <th>Long</th>\n",
       "      <th>Wind</th>\n",
       "      <th>Pres</th>\n",
       "      <th>Movement</th>\n",
       "      <th>Type</th>\n",
       "      <th>Name</th>\n",
       "      <th>Received</th>\n",
       "      <th>Forecaster</th>\n",
       "      <th>coordinates</th>\n",
       "    </tr>\n",
       "  </thead>\n",
       "  <tbody>\n",
       "    <tr>\n",
       "      <th>0</th>\n",
       "      <td>1</td>\n",
       "      <td>10/06/2018 17:00</td>\n",
       "      <td>18.0</td>\n",
       "      <td>-86.6</td>\n",
       "      <td>30</td>\n",
       "      <td>1006</td>\n",
       "      <td>NW at 6 MPH (325 deg)</td>\n",
       "      <td>Potential Tropical Cyclone</td>\n",
       "      <td>Fourteen</td>\n",
       "      <td>10/06/2018 16:50</td>\n",
       "      <td>Beven</td>\n",
       "      <td>POINT (-86.60000 18.00000)</td>\n",
       "    </tr>\n",
       "    <tr>\n",
       "      <th>1</th>\n",
       "      <td>1A</td>\n",
       "      <td>10/06/2018 20:00</td>\n",
       "      <td>18.3</td>\n",
       "      <td>-86.6</td>\n",
       "      <td>30</td>\n",
       "      <td>1004</td>\n",
       "      <td>N at 6 MPH (360 deg)</td>\n",
       "      <td>Potential Tropical Cyclone</td>\n",
       "      <td>Fourteen</td>\n",
       "      <td>10/06/2018 19:32</td>\n",
       "      <td>Avila</td>\n",
       "      <td>POINT (-86.60000 18.30000)</td>\n",
       "    </tr>\n",
       "    <tr>\n",
       "      <th>2</th>\n",
       "      <td>2</td>\n",
       "      <td>10/06/2018 23:00</td>\n",
       "      <td>18.8</td>\n",
       "      <td>-86.6</td>\n",
       "      <td>30</td>\n",
       "      <td>1004</td>\n",
       "      <td>N at 7 MPH (360 deg)</td>\n",
       "      <td>Potential Tropical Cyclone</td>\n",
       "      <td>Fourteen</td>\n",
       "      <td>10/06/2018 22:38</td>\n",
       "      <td>Avila</td>\n",
       "      <td>POINT (-86.60000 18.80000)</td>\n",
       "    </tr>\n",
       "    <tr>\n",
       "      <th>3</th>\n",
       "      <td>2A</td>\n",
       "      <td>10/07/2018 02:00</td>\n",
       "      <td>18.4</td>\n",
       "      <td>-87.1</td>\n",
       "      <td>35</td>\n",
       "      <td>1004</td>\n",
       "      <td>NW at 5 MPH (320 deg)</td>\n",
       "      <td>Potential Tropical Cyclone</td>\n",
       "      <td>Fourteen</td>\n",
       "      <td>10/07/2018 01:38</td>\n",
       "      <td>Berg</td>\n",
       "      <td>POINT (-87.10000 18.40000)</td>\n",
       "    </tr>\n",
       "    <tr>\n",
       "      <th>4</th>\n",
       "      <td>3</td>\n",
       "      <td>10/07/2018 05:00</td>\n",
       "      <td>18.6</td>\n",
       "      <td>-86.9</td>\n",
       "      <td>35</td>\n",
       "      <td>1004</td>\n",
       "      <td>NNW at 3 MPH (340 deg)</td>\n",
       "      <td>Tropical Depression</td>\n",
       "      <td>FOURTEEN</td>\n",
       "      <td>10/07/2018 04:53</td>\n",
       "      <td>Berg</td>\n",
       "      <td>POINT (-86.90000 18.60000)</td>\n",
       "    </tr>\n",
       "  </tbody>\n",
       "</table>\n",
       "</div>"
      ],
      "text/plain": [
       "  AdvisoryNumber              Date   Lat  Long  Wind  Pres  \\\n",
       "0              1  10/06/2018 17:00  18.0 -86.6    30  1006   \n",
       "1             1A  10/06/2018 20:00  18.3 -86.6    30  1004   \n",
       "2              2  10/06/2018 23:00  18.8 -86.6    30  1004   \n",
       "3             2A  10/07/2018 02:00  18.4 -87.1    35  1004   \n",
       "4              3  10/07/2018 05:00  18.6 -86.9    35  1004   \n",
       "\n",
       "                 Movement                        Type      Name  \\\n",
       "0   NW at 6 MPH (325 deg)  Potential Tropical Cyclone  Fourteen   \n",
       "1    N at 6 MPH (360 deg)  Potential Tropical Cyclone  Fourteen   \n",
       "2    N at 7 MPH (360 deg)  Potential Tropical Cyclone  Fourteen   \n",
       "3   NW at 5 MPH (320 deg)  Potential Tropical Cyclone  Fourteen   \n",
       "4  NNW at 3 MPH (340 deg)         Tropical Depression  FOURTEEN   \n",
       "\n",
       "           Received Forecaster                 coordinates  \n",
       "0  10/06/2018 16:50      Beven  POINT (-86.60000 18.00000)  \n",
       "1  10/06/2018 19:32      Avila  POINT (-86.60000 18.30000)  \n",
       "2  10/06/2018 22:38      Avila  POINT (-86.60000 18.80000)  \n",
       "3  10/07/2018 01:38       Berg  POINT (-87.10000 18.40000)  \n",
       "4  10/07/2018 04:53       Berg  POINT (-86.90000 18.60000)  "
      ]
     },
     "execution_count": 62,
     "metadata": {},
     "output_type": "execute_result"
    }
   ],
   "source": [
    "#geo-dataframe looks the same as regular dataframe\n",
    "geo_hurricane.head()"
   ]
  },
  {
   "cell_type": "code",
   "execution_count": 63,
   "metadata": {},
   "outputs": [
    {
     "data": {
      "text/plain": [
       "geopandas.geoseries.GeoSeries"
      ]
     },
     "execution_count": 63,
     "metadata": {},
     "output_type": "execute_result"
    }
   ],
   "source": [
    "#verify coordinates column is geolocation data type\n",
    "type(geo_hurricane['coordinates'])"
   ]
  },
  {
   "cell_type": "code",
   "execution_count": 43,
   "metadata": {},
   "outputs": [
    {
     "data": {
      "text/html": [
       "<div>\n",
       "<style scoped>\n",
       "    .dataframe tbody tr th:only-of-type {\n",
       "        vertical-align: middle;\n",
       "    }\n",
       "\n",
       "    .dataframe tbody tr th {\n",
       "        vertical-align: top;\n",
       "    }\n",
       "\n",
       "    .dataframe thead th {\n",
       "        text-align: right;\n",
       "    }\n",
       "</style>\n",
       "<table border=\"1\" class=\"dataframe\">\n",
       "  <thead>\n",
       "    <tr style=\"text-align: right;\">\n",
       "      <th></th>\n",
       "      <th>GEO_ID</th>\n",
       "      <th>STATE</th>\n",
       "      <th>NAME</th>\n",
       "      <th>LSAD</th>\n",
       "      <th>CENSUSAREA</th>\n",
       "      <th>geometry</th>\n",
       "    </tr>\n",
       "  </thead>\n",
       "  <tbody>\n",
       "    <tr>\n",
       "      <th>0</th>\n",
       "      <td>0400000US01</td>\n",
       "      <td>01</td>\n",
       "      <td>Alabama</td>\n",
       "      <td></td>\n",
       "      <td>50645.326</td>\n",
       "      <td>MULTIPOLYGON (((-88.12466 30.28364, -88.08681 ...</td>\n",
       "    </tr>\n",
       "    <tr>\n",
       "      <th>2</th>\n",
       "      <td>0400000US04</td>\n",
       "      <td>04</td>\n",
       "      <td>Arizona</td>\n",
       "      <td></td>\n",
       "      <td>113594.084</td>\n",
       "      <td>POLYGON ((-112.53859 37.00067, -112.53454 37.0...</td>\n",
       "    </tr>\n",
       "    <tr>\n",
       "      <th>3</th>\n",
       "      <td>0400000US05</td>\n",
       "      <td>05</td>\n",
       "      <td>Arkansas</td>\n",
       "      <td></td>\n",
       "      <td>52035.477</td>\n",
       "      <td>POLYGON ((-94.04296 33.01922, -94.04304 33.079...</td>\n",
       "    </tr>\n",
       "    <tr>\n",
       "      <th>4</th>\n",
       "      <td>0400000US06</td>\n",
       "      <td>06</td>\n",
       "      <td>California</td>\n",
       "      <td></td>\n",
       "      <td>155779.220</td>\n",
       "      <td>MULTIPOLYGON (((-122.42144 37.86997, -122.4213...</td>\n",
       "    </tr>\n",
       "    <tr>\n",
       "      <th>5</th>\n",
       "      <td>0400000US08</td>\n",
       "      <td>08</td>\n",
       "      <td>Colorado</td>\n",
       "      <td></td>\n",
       "      <td>103641.888</td>\n",
       "      <td>POLYGON ((-106.19055 40.99761, -106.06118 40.9...</td>\n",
       "    </tr>\n",
       "  </tbody>\n",
       "</table>\n",
       "</div>"
      ],
      "text/plain": [
       "        GEO_ID STATE        NAME LSAD  CENSUSAREA  \\\n",
       "0  0400000US01    01     Alabama        50645.326   \n",
       "2  0400000US04    04     Arizona       113594.084   \n",
       "3  0400000US05    05    Arkansas        52035.477   \n",
       "4  0400000US06    06  California       155779.220   \n",
       "5  0400000US08    08    Colorado       103641.888   \n",
       "\n",
       "                                            geometry  \n",
       "0  MULTIPOLYGON (((-88.12466 30.28364, -88.08681 ...  \n",
       "2  POLYGON ((-112.53859 37.00067, -112.53454 37.0...  \n",
       "3  POLYGON ((-94.04296 33.01922, -94.04304 33.079...  \n",
       "4  MULTIPOLYGON (((-122.42144 37.86997, -122.4213...  \n",
       "5  POLYGON ((-106.19055 40.99761, -106.06118 40.9...  "
      ]
     },
     "execution_count": 43,
     "metadata": {},
     "output_type": "execute_result"
    }
   ],
   "source": [
    "#import file that contains a US map shape polygons\n",
    "#will use to plot the coordinates of meteorite landings\n",
    "filepath = \"US_states(5m).json\"\n",
    "\n",
    "#data contains polygon shape coordinates for different map body types (states, etc.)\n",
    "map_df = gpd.read_file(filepath)\n",
    "map48 = map_df.loc[map_df['NAME'].isin(['Alaska', 'Hawaii', 'Puerto Rico']) == False]\n",
    "map48.head()"
   ]
  },
  {
   "cell_type": "code",
   "execution_count": 47,
   "metadata": {},
   "outputs": [
    {
     "data": {
      "text/plain": [
       "<matplotlib.axes._subplots.AxesSubplot at 0x12a59bf10>"
      ]
     },
     "execution_count": 47,
     "metadata": {},
     "output_type": "execute_result"
    },
    {
     "data": {
      "image/png": "[encoded data removed]",
      "text/plain": [
       "<Figure size 432x288 with 1 Axes>"
      ]
     },
     "metadata": {
      "needs_background": "light"
     },
     "output_type": "display_data"
    }
   ],
   "source": [
    "#map graph\n",
    "map48.plot(cmap='OrRd')"
   ]
  },
  {
   "cell_type": "code",
   "execution_count": 48,
   "metadata": {},
   "outputs": [
    {
     "data": {
      "text/plain": [
       "<matplotlib.axes._subplots.AxesSubplot at 0x12ac57f10>"
      ]
     },
     "execution_count": 48,
     "metadata": {},
     "output_type": "execute_result"
    },
    {
     "data": {
      "image/png": "[encoded data removed]",
      "text/plain": [
       "<Figure size 432x288 with 1 Axes>"
      ]
     },
     "metadata": {
      "needs_background": "light"
     },
     "output_type": "display_data"
    }
   ],
   "source": [
    "#plot the coordinates (no map)\n",
    "geo_hurricane.plot()"
   ]
  },
  {
   "cell_type": "code",
   "execution_count": 49,
   "metadata": {},
   "outputs": [
    {
     "data": {
      "text/plain": [
       "Text(0.5, 1, 'Hurrican Michael Trajectory')"
      ]
     },
     "execution_count": 49,
     "metadata": {},
     "output_type": "execute_result"
    },
    {
     "data": {
      "image/png": "[encoded data removed]",
      "text/plain": [
       "<Figure size 720x1080 with 1 Axes>"
      ]
     },
     "metadata": {
      "needs_background": "light"
     },
     "output_type": "display_data"
    }
   ],
   "source": [
    "#plot coordinates on top of map graph\n",
    "\n",
    "#this is to set the size of the borders\n",
    "fig, ax = plt.subplots(1, figsize=(10,15))\n",
    "\n",
    "#this is the map , cmap='OrRd'\n",
    "basemap = map48.plot(ax=ax,  cmap='OrRd')\n",
    "\n",
    "#plot coordinates on top of map graph\n",
    "geo_hurricane.plot(ax=basemap, color='black', marker=\"o\", markersize=50)\n",
    "\n",
    "#take off axis numbers\n",
    "ax.axis('off')\n",
    "\n",
    "#put title on map\n",
    "ax.set_ylim([17, 58])\n",
    "ax.set_title(\"Hurrican Michael Trajectory\", fontsize=25, fontweight=3)"
   ]
  },
  {
   "cell_type": "markdown",
   "metadata": {},
   "source": [
    "### We could zoom-in and see the trajectory "
   ]
  },
  {
   "cell_type": "code",
   "execution_count": 52,
   "metadata": {},
   "outputs": [
    {
     "data": {
      "text/plain": [
       "Text(0.5, 1, 'Hurrican Michael Trajectory')"
      ]
     },
     "execution_count": 52,
     "metadata": {},
     "output_type": "execute_result"
    },
    {
     "data": {
      "image/png": "[encoded data removed]",
      "text/plain": [
       "<Figure size 720x1080 with 1 Axes>"
      ]
     },
     "metadata": {
      "needs_background": "light"
     },
     "output_type": "display_data"
    }
   ],
   "source": [
    "#plot coordinates on top of map graph\n",
    "\n",
    "#this is to set the size of the borders\n",
    "fig, ax = plt.subplots(1, figsize=(10,15))\n",
    "\n",
    "#this is the map , cmap='OrRd'\n",
    "basemap = map48.plot(ax=ax,  cmap='OrRd')\n",
    "\n",
    "#plot coordinates on top of map graph\n",
    "geo_hurricane.plot(ax=basemap, color='black', marker=\">\", markersize=50)\n",
    "\n",
    "#take off axis numbers\n",
    "ax.axis('off')\n",
    "\n",
    "#put title on map\n",
    "ax.set_xlim([-90, -75])\n",
    "ax.set_ylim([17.5, 37.5])\n",
    "ax.set_title(\"Hurrican Michael Trajectory\", fontsize=25, fontweight=3)"
   ]
  },
  {
   "cell_type": "code",
   "execution_count": null,
   "metadata": {},
   "outputs": [],
   "source": []
  }
 ],
 "metadata": {
  "kernelspec": {
   "display_name": "Python 3",
   "language": "python",
   "name": "python3"
  },
  "language_info": {
   "codemirror_mode": {
    "name": "ipython",
    "version": 3
   },
   "file_extension": ".py",
   "mimetype": "text/x-python",
   "name": "python",
   "nbconvert_exporter": "python",
   "pygments_lexer": "ipython3",
   "version": "3.7.6"
  }
 },
 "nbformat": 4,
 "nbformat_minor": 2
}
