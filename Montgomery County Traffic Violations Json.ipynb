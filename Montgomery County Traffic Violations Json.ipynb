{
 "cells": [
  {
   "cell_type": "markdown",
   "metadata": {},
   "source": [
    "# Montgomery County Traffic Violations\n",
    "\n",
    "Use the file \"MoCoViolations_2018.json\" in the datasets folder. This information was collected from the data.gov website as a portion of the traffic violations in Montgomery County, Maryland  (https://catalog.data.gov/dataset/traffic-violations-56dda.)dataset. If you need more descriptive information regarding the features in this dataset, check out the \"Columns in this Dataset\" section of the Montgomery County Open Data Portal for this data: https://data.montgomerycountymd.gov/Public-Safety/Traffic-Violations/4mse-ku6q (Links to an external site.)\n",
    "\n",
    "TIP: The JSON objects in the file have separators, so use the json.load() function to read in the data.\n",
    "\n",
    "Extract the data for the following features and make it into a dataframe (HINT: The final data that you need to extract is located in a list. You need to get the data by its index position number in the list. Next to each feature is its index position number for your guidance.):\n",
    "\n",
    "                    -Date of Stop [9]\n",
    "                    -Time of Stop [10]\n",
    "                    -Agency [11]\n",
    "                    -Subagency [12]\n",
    "                    -Description [13]\n",
    "                    -Location [14]\n",
    "                    -Latitude [15]\n",
    "                    -Longitude [16]\n",
    "                    -Vehicle Type [28]\n",
    "                    -Vehicle Year [29]\n",
    "                    -Vehicle Make [30]\n",
    "                    -Vehicle Model [31]\n",
    "                    -Vehicle Color [32]\n",
    "                    -Violation Type [33]\n",
    "                    -Race [37]\n",
    "                    -Gender [38]\n",
    "                    -Driver's State [40]\n",
    "                    -Driver's License State [41]\n",
    "                    -Arrest Type [42]\n",
    "\n",
    "\n",
    "The following diagram summarizes my understading of the json file"
   ]
  },
  {
   "cell_type": "markdown",
   "metadata": {},
   "source": [
    "![Jason tree](Exrecise_jason_tree.png)\n",
    "\n",
    "Jason tree."
   ]
  },
  {
   "cell_type": "code",
   "execution_count": 51,
   "metadata": {},
   "outputs": [],
   "source": [
    "# Python comes with a built-in package called json for encoding and decoding JSON data.\n",
    "import json\n",
    "import pandas as pd"
   ]
  },
  {
   "cell_type": "code",
   "execution_count": 52,
   "metadata": {},
   "outputs": [
    {
     "data": {
      "text/plain": [
       "dict"
      ]
     },
     "execution_count": 52,
     "metadata": {},
     "output_type": "execute_result"
    }
   ],
   "source": [
    "#Use this for the excercise\n",
    "with open(\"MoCoViolations_2018.json\") as file:\n",
    "    traffic_violations = json.load(file)\n",
    "type(traffic_violations)"
   ]
  },
  {
   "cell_type": "code",
   "execution_count": 53,
   "metadata": {},
   "outputs": [
    {
     "data": {
      "text/plain": [
       "2"
      ]
     },
     "execution_count": 53,
     "metadata": {},
     "output_type": "execute_result"
    }
   ],
   "source": [
    "# how many dict we have?\n",
    "len(traffic_violations)"
   ]
  },
  {
   "cell_type": "code",
   "execution_count": 54,
   "metadata": {},
   "outputs": [
    {
     "data": {
      "text/plain": [
       "dict_keys(['meta', 'data'])"
      ]
     },
     "execution_count": 54,
     "metadata": {},
     "output_type": "execute_result"
    }
   ],
   "source": [
    "#what are these dict names\n",
    "traffic_violations.keys()"
   ]
  },
  {
   "cell_type": "code",
   "execution_count": 55,
   "metadata": {},
   "outputs": [
    {
     "data": {
      "text/plain": [
       "dict"
      ]
     },
     "execution_count": 55,
     "metadata": {},
     "output_type": "execute_result"
    }
   ],
   "source": [
    "# type of 'meta'\n",
    "type(traffic_violations['meta'])"
   ]
  },
  {
   "cell_type": "code",
   "execution_count": 56,
   "metadata": {},
   "outputs": [
    {
     "data": {
      "text/plain": [
       "dict"
      ]
     },
     "execution_count": 56,
     "metadata": {},
     "output_type": "execute_result"
    }
   ],
   "source": [
    "type(traffic_violations['meta']['view'])"
   ]
  },
  {
   "cell_type": "code",
   "execution_count": 57,
   "metadata": {},
   "outputs": [
    {
     "data": {
      "text/plain": [
       "dict_keys(['id', 'name', 'averageRating', 'category', 'createdAt', 'description', 'displayType', 'downloadCount', 'hideFromCatalog', 'hideFromDataJson', 'indexUpdatedAt', 'newBackend', 'numberOfComments', 'oid', 'provenance', 'publicationAppendEnabled', 'publicationDate', 'publicationGroup', 'publicationStage', 'rowsUpdatedAt', 'rowsUpdatedBy', 'tableId', 'totalTimesRated', 'viewCount', 'viewLastModified', 'viewType', 'columns', 'grants', 'metadata', 'owner', 'query', 'rights', 'tableAuthor', 'tags', 'flags'])"
      ]
     },
     "execution_count": 57,
     "metadata": {},
     "output_type": "execute_result"
    }
   ],
   "source": [
    "traffic_violations['meta']['view'].keys()"
   ]
  },
  {
   "cell_type": "code",
   "execution_count": 58,
   "metadata": {},
   "outputs": [
    {
     "data": {
      "text/plain": [
       "str"
      ]
     },
     "execution_count": 58,
     "metadata": {},
     "output_type": "execute_result"
    }
   ],
   "source": [
    "type(traffic_violations['meta']['view']['id'])"
   ]
  },
  {
   "cell_type": "code",
   "execution_count": 59,
   "metadata": {},
   "outputs": [
    {
     "data": {
      "text/plain": [
       "list"
      ]
     },
     "execution_count": 59,
     "metadata": {},
     "output_type": "execute_result"
    }
   ],
   "source": [
    "#type of 'data'\n",
    "type(traffic_violations['data'])"
   ]
  },
  {
   "cell_type": "code",
   "execution_count": 60,
   "metadata": {},
   "outputs": [
    {
     "data": {
      "text/plain": [
       "1"
      ]
     },
     "execution_count": 60,
     "metadata": {},
     "output_type": "execute_result"
    }
   ],
   "source": [
    "#length of meta\n",
    "len(traffic_violations['meta'])"
   ]
  },
  {
   "cell_type": "code",
   "execution_count": 61,
   "metadata": {},
   "outputs": [
    {
     "data": {
      "text/plain": [
       "218273"
      ]
     },
     "execution_count": 61,
     "metadata": {},
     "output_type": "execute_result"
    }
   ],
   "source": [
    "#length of data\n",
    "len(traffic_violations['data'])"
   ]
  },
  {
   "cell_type": "code",
   "execution_count": 62,
   "metadata": {},
   "outputs": [
    {
     "data": {
      "text/plain": [
       "dict"
      ]
     },
     "execution_count": 62,
     "metadata": {},
     "output_type": "execute_result"
    }
   ],
   "source": [
    "type(traffic_violations['meta']['view'])"
   ]
  },
  {
   "cell_type": "code",
   "execution_count": 63,
   "metadata": {},
   "outputs": [
    {
     "data": {
      "text/plain": [
       "list"
      ]
     },
     "execution_count": 63,
     "metadata": {},
     "output_type": "execute_result"
    }
   ],
   "source": [
    "type(traffic_violations['data'][0])"
   ]
  },
  {
   "cell_type": "code",
   "execution_count": 64,
   "metadata": {},
   "outputs": [
    {
     "data": {
      "text/plain": [
       "'2018-12-31T00:00:00'"
      ]
     },
     "execution_count": 64,
     "metadata": {},
     "output_type": "execute_result"
    }
   ],
   "source": [
    "#Date of Stop (as index is given to be 9)\n",
    "traffic_violations['data'][0][9]"
   ]
  },
  {
   "cell_type": "code",
   "execution_count": 65,
   "metadata": {},
   "outputs": [
    {
     "data": {
      "text/plain": [
       "str"
      ]
     },
     "execution_count": 65,
     "metadata": {},
     "output_type": "execute_result"
    }
   ],
   "source": [
    "# What type is it?  (as index is given to be 9)\n",
    "type(traffic_violations['data'][0][9])"
   ]
  },
  {
   "cell_type": "code",
   "execution_count": 66,
   "metadata": {},
   "outputs": [
    {
     "data": {
      "text/plain": [
       "'02 - Automobile'"
      ]
     },
     "execution_count": 66,
     "metadata": {},
     "output_type": "execute_result"
    }
   ],
   "source": [
    "#Vehicle type ( index is given to be 28)\n",
    "traffic_violations['data'][0][28]"
   ]
  },
  {
   "cell_type": "code",
   "execution_count": 67,
   "metadata": {},
   "outputs": [
    {
     "data": {
      "text/plain": [
       "'A - Marked Patrol'"
      ]
     },
     "execution_count": 67,
     "metadata": {},
     "output_type": "execute_result"
    }
   ],
   "source": [
    "#Arrest type ( index is given to be 9)\n",
    "traffic_violations['data'][0][42]"
   ]
  },
  {
   "cell_type": "code",
   "execution_count": 68,
   "metadata": {},
   "outputs": [],
   "source": [
    "#initialize variables for empty lists to hold data\n",
    "Date_Stop=[]\n",
    "Time_Stop=[]\n",
    "Agency=[]\n",
    "Subagency=[]\n",
    "Description=[]\n",
    "Location=[]\n",
    "Latitude=[]\n",
    "Longitude=[]\n",
    "Vehicle_Type=[]\n",
    "Vehicle_Year=[]\n",
    "Vehicle_Make=[]\n",
    "Vehicle_Model=[]\n",
    "Vehicle_Color=[]\n",
    "Violation_Type=[]\n",
    "Race=[]\n",
    "Gender=[]\n",
    "Driver_State=[]\n",
    "Driver_License_State=[]\n",
    "Arrest_Type=[]"
   ]
  },
  {
   "cell_type": "code",
   "execution_count": 69,
   "metadata": {},
   "outputs": [],
   "source": [
    "for traffic_violation in traffic_violations['data']:\n",
    "    Date_Stop.append(traffic_violation[9])\n",
    "    Time_Stop.append(traffic_violation[10])\n",
    "    Agency.append(traffic_violation[11])\n",
    "    Subagency.append(traffic_violation[12])\n",
    "    Description.append(traffic_violation[13])\n",
    "    Location.append(traffic_violation[14])\n",
    "    Latitude.append(traffic_violation[15])\n",
    "    Longitude.append(traffic_violation[16])\n",
    "    Vehicle_Type.append(traffic_violation[28])\n",
    "    Vehicle_Year.append(traffic_violation[29])\n",
    "    Vehicle_Make.append(traffic_violation[30])\n",
    "    Vehicle_Model.append(traffic_violation[31])\n",
    "    Vehicle_Color.append(traffic_violation[32])\n",
    "    Violation_Type.append(traffic_violation[33])\n",
    "    Race.append(traffic_violation[37])\n",
    "    Gender.append(traffic_violation[38])\n",
    "    Driver_State.append(traffic_violation[40])\n",
    "    Driver_License_State.append(traffic_violation[41])\n",
    "    Arrest_Type.append(traffic_violation[42])"
   ]
  },
  {
   "cell_type": "code",
   "execution_count": 70,
   "metadata": {},
   "outputs": [],
   "source": [
    "\n",
    "Requested_list = list(zip(Date_Stop, Time_Stop, Agency, Subagency, Description, Location, Latitude\n",
    "                          , Longitude,Vehicle_Type,Vehicle_Year,Vehicle_Make,Vehicle_Model,Vehicle_Color,\n",
    "                         Violation_Type,Race,Gender,Driver_State,Driver_License_State,Arrest_Type))\n",
    "\n",
    "#make list of column names\n",
    "names = ['Date_Stop', 'Time_Stop', 'Agency', 'Subagency', 'Description', 'Location', 'Latitude'\n",
    "                          , 'Longitude','Vehicle_Type','Vehicle_Year','Vehicle_Make','Vehicle_Model','Vehicle_Color',\n",
    "                         'Violation_Type','Race','Gender','Driver_State','Driver_License_State','Arrest_Type']"
   ]
  },
  {
   "cell_type": "code",
   "execution_count": 71,
   "metadata": {},
   "outputs": [
    {
     "data": {
      "text/html": [
       "<div>\n",
       "<style scoped>\n",
       "    .dataframe tbody tr th:only-of-type {\n",
       "        vertical-align: middle;\n",
       "    }\n",
       "\n",
       "    .dataframe tbody tr th {\n",
       "        vertical-align: top;\n",
       "    }\n",
       "\n",
       "    .dataframe thead th {\n",
       "        text-align: right;\n",
       "    }\n",
       "</style>\n",
       "<table border=\"1\" class=\"dataframe\">\n",
       "  <thead>\n",
       "    <tr style=\"text-align: right;\">\n",
       "      <th></th>\n",
       "      <th>Date_Stop</th>\n",
       "      <th>Time_Stop</th>\n",
       "      <th>Agency</th>\n",
       "      <th>Subagency</th>\n",
       "      <th>Description</th>\n",
       "      <th>Location</th>\n",
       "      <th>Latitude</th>\n",
       "      <th>Longitude</th>\n",
       "      <th>Vehicle_Type</th>\n",
       "      <th>Vehicle_Year</th>\n",
       "      <th>Vehicle_Make</th>\n",
       "      <th>Vehicle_Model</th>\n",
       "      <th>Vehicle_Color</th>\n",
       "      <th>Violation_Type</th>\n",
       "      <th>Race</th>\n",
       "      <th>Gender</th>\n",
       "      <th>Driver_State</th>\n",
       "      <th>Driver_License_State</th>\n",
       "      <th>Arrest_Type</th>\n",
       "    </tr>\n",
       "  </thead>\n",
       "  <tbody>\n",
       "    <tr>\n",
       "      <th>0</th>\n",
       "      <td>2018-12-31T00:00:00</td>\n",
       "      <td>23:56:00</td>\n",
       "      <td>MCP</td>\n",
       "      <td>1st District, Rockville</td>\n",
       "      <td>FAILURE OF VEH. ON HWY. TO DISPLAY LIGHTED LAM...</td>\n",
       "      <td>355 @ FIRST ST</td>\n",
       "      <td>39.07792</td>\n",
       "      <td>-77.1404116666667</td>\n",
       "      <td>02 - Automobile</td>\n",
       "      <td>2007</td>\n",
       "      <td>TOYOTA</td>\n",
       "      <td>COROLLA</td>\n",
       "      <td>BLUE</td>\n",
       "      <td>Warning</td>\n",
       "      <td>BLACK</td>\n",
       "      <td>M</td>\n",
       "      <td>MD</td>\n",
       "      <td>MD</td>\n",
       "      <td>A - Marked Patrol</td>\n",
       "    </tr>\n",
       "    <tr>\n",
       "      <th>1</th>\n",
       "      <td>2018-12-31T00:00:00</td>\n",
       "      <td>23:52:00</td>\n",
       "      <td>MCP</td>\n",
       "      <td>6th District, Gaithersburg / Montgomery Village</td>\n",
       "      <td>FAILURE TO DISPLAY TWO LIGHTED FRONT LAMPS WHE...</td>\n",
       "      <td>N FREDERICK AVE @ ODENDHAL AVE</td>\n",
       "      <td>39.1486766666667</td>\n",
       "      <td>-77.2063433333333</td>\n",
       "      <td>02 - Automobile</td>\n",
       "      <td>2006</td>\n",
       "      <td>LEXUS</td>\n",
       "      <td>4S</td>\n",
       "      <td>GRAY</td>\n",
       "      <td>Warning</td>\n",
       "      <td>HISPANIC</td>\n",
       "      <td>M</td>\n",
       "      <td>MD</td>\n",
       "      <td>MD</td>\n",
       "      <td>A - Marked Patrol</td>\n",
       "    </tr>\n",
       "    <tr>\n",
       "      <th>2</th>\n",
       "      <td>2018-12-31T00:00:00</td>\n",
       "      <td>23:52:00</td>\n",
       "      <td>MCP</td>\n",
       "      <td>6th District, Gaithersburg / Montgomery Village</td>\n",
       "      <td>FAILURE OF VEH. ON HWY. TO DISPLAY LIGHTED LAM...</td>\n",
       "      <td>N FREDERICK AVE @ ODENDHAL AVE</td>\n",
       "      <td>39.1486766666667</td>\n",
       "      <td>-77.2063433333333</td>\n",
       "      <td>02 - Automobile</td>\n",
       "      <td>2006</td>\n",
       "      <td>LEXUS</td>\n",
       "      <td>4S</td>\n",
       "      <td>GRAY</td>\n",
       "      <td>Warning</td>\n",
       "      <td>HISPANIC</td>\n",
       "      <td>M</td>\n",
       "      <td>MD</td>\n",
       "      <td>MD</td>\n",
       "      <td>A - Marked Patrol</td>\n",
       "    </tr>\n",
       "  </tbody>\n",
       "</table>\n",
       "</div>"
      ],
      "text/plain": [
       "             Date_Stop Time_Stop Agency  \\\n",
       "0  2018-12-31T00:00:00  23:56:00    MCP   \n",
       "1  2018-12-31T00:00:00  23:52:00    MCP   \n",
       "2  2018-12-31T00:00:00  23:52:00    MCP   \n",
       "\n",
       "                                         Subagency  \\\n",
       "0                          1st District, Rockville   \n",
       "1  6th District, Gaithersburg / Montgomery Village   \n",
       "2  6th District, Gaithersburg / Montgomery Village   \n",
       "\n",
       "                                         Description  \\\n",
       "0  FAILURE OF VEH. ON HWY. TO DISPLAY LIGHTED LAM...   \n",
       "1  FAILURE TO DISPLAY TWO LIGHTED FRONT LAMPS WHE...   \n",
       "2  FAILURE OF VEH. ON HWY. TO DISPLAY LIGHTED LAM...   \n",
       "\n",
       "                         Location          Latitude          Longitude  \\\n",
       "0                  355 @ FIRST ST          39.07792  -77.1404116666667   \n",
       "1  N FREDERICK AVE @ ODENDHAL AVE  39.1486766666667  -77.2063433333333   \n",
       "2  N FREDERICK AVE @ ODENDHAL AVE  39.1486766666667  -77.2063433333333   \n",
       "\n",
       "      Vehicle_Type Vehicle_Year Vehicle_Make Vehicle_Model Vehicle_Color  \\\n",
       "0  02 - Automobile         2007       TOYOTA       COROLLA          BLUE   \n",
       "1  02 - Automobile         2006        LEXUS            4S          GRAY   \n",
       "2  02 - Automobile         2006        LEXUS            4S          GRAY   \n",
       "\n",
       "  Violation_Type      Race Gender Driver_State Driver_License_State  \\\n",
       "0        Warning     BLACK      M           MD                   MD   \n",
       "1        Warning  HISPANIC      M           MD                   MD   \n",
       "2        Warning  HISPANIC      M           MD                   MD   \n",
       "\n",
       "         Arrest_Type  \n",
       "0  A - Marked Patrol  \n",
       "1  A - Marked Patrol  \n",
       "2  A - Marked Patrol  "
      ]
     },
     "execution_count": 71,
     "metadata": {},
     "output_type": "execute_result"
    }
   ],
   "source": [
    "#make the dataframe\n",
    "df = pd.DataFrame(Requested_list, columns=names)\n",
    "\n",
    "df.head(3)"
   ]
  },
  {
   "cell_type": "code",
   "execution_count": null,
   "metadata": {},
   "outputs": [],
   "source": []
  }
 ],
 "metadata": {
  "kernelspec": {
   "display_name": "Python 3",
   "language": "python",
   "name": "python3"
  },
  "language_info": {
   "codemirror_mode": {
    "name": "ipython",
    "version": 3
   },
   "file_extension": ".py",
   "mimetype": "text/x-python",
   "name": "python",
   "nbconvert_exporter": "python",
   "pygments_lexer": "ipython3",
   "version": "3.7.6"
  }
 },
 "nbformat": 4,
 "nbformat_minor": 4
}
